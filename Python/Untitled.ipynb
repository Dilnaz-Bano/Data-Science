{
 "cells": [
  {
   "cell_type": "code",
   "execution_count": null,
   "id": "59fbac1a-e728-4e88-aae9-c20fe8474e85",
   "metadata": {},
   "outputs": [],
   "source": []
  },
  {
   "cell_type": "code",
   "execution_count": 1,
   "id": "9a10fe70-f94d-4b79-8b9a-f906e9dc3e69",
   "metadata": {},
   "outputs": [
    {
     "name": "stdout",
     "output_type": "stream",
     "text": [
      "hello data science world!!\n"
     ]
    }
   ],
   "source": [
    "print(\"hello data science world!!\")"
   ]
  },
  {
   "cell_type": "code",
   "execution_count": 7,
   "id": "d148d541-4f41-4254-a2be-2403cd338e80",
   "metadata": {},
   "outputs": [
    {
     "name": "stdout",
     "output_type": "stream",
     "text": [
      "dilnaz bano\n"
     ]
    }
   ],
   "source": [
    "print(\"dilnaz bano\")"
   ]
  },
  {
   "cell_type": "code",
   "execution_count": null,
   "id": "f4628752-a589-4552-b74d-b579e64f21d9",
   "metadata": {},
   "outputs": [],
   "source": []
  },
  {
   "cell_type": "code",
   "execution_count": 11,
   "id": "c3b0efbe-da30-48be-ad15-cf00f7e3126c",
   "metadata": {},
   "outputs": [
    {
     "data": {
      "text/plain": [
       "51"
      ]
     },
     "execution_count": 11,
     "metadata": {},
     "output_type": "execute_result"
    }
   ],
   "source": [
    "24+27"
   ]
  },
  {
   "cell_type": "markdown",
   "id": "ba3e19cf-5710-48ef-91e3-5c451d312bd7",
   "metadata": {},
   "source": [
    "python is a programming language which is case sensitive.\n",
    "    \n",
    "python is also interpreted language"
   ]
  },
  {
   "cell_type": "markdown",
   "id": "dba0793b-6948-42d0-9582-3683b0c3a230",
   "metadata": {},
   "source": [
    "shortcuts\n",
    "\n",
    "to add the cell below the current cell- Esc+B\n",
    "\n",
    "to add the cell above the current cell- Esc+A\n",
    "\n",
    "to execute the code- shift + enter or ctrl + enter\n",
    "\n",
    "delete a particular cell- ESC +D +D"
   ]
  },
  {
   "cell_type": "code",
   "execution_count": null,
   "id": "c2ce81b8-1d91-4b5b-bb27-05c06ca5e249",
   "metadata": {},
   "outputs": [],
   "source": []
  },
  {
   "cell_type": "code",
   "execution_count": 5,
   "id": "fe4053c3-5cf1-4672-893c-c9bb165eca01",
   "metadata": {},
   "outputs": [
    {
     "data": {
      "text/plain": [
       "5.0"
      ]
     },
     "execution_count": 5,
     "metadata": {},
     "output_type": "execute_result"
    }
   ],
   "source": [
    "25/5"
   ]
  },
  {
   "cell_type": "code",
   "execution_count": null,
   "id": "957fd803-cdf1-4eb7-8901-16abfbd3d53f",
   "metadata": {},
   "outputs": [],
   "source": []
  }
 ],
 "metadata": {
  "kernelspec": {
   "display_name": "Python [conda env:base] *",
   "language": "python",
   "name": "conda-base-py"
  },
  "language_info": {
   "codemirror_mode": {
    "name": "ipython",
    "version": 3
   },
   "file_extension": ".py",
   "mimetype": "text/x-python",
   "name": "python",
   "nbconvert_exporter": "python",
   "pygments_lexer": "ipython3",
   "version": "3.12.7"
  }
 },
 "nbformat": 4,
 "nbformat_minor": 5
}
